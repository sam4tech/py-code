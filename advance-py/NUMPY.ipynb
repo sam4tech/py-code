{
 "cells": [
  {
   "cell_type": "code",
   "execution_count": 1,
   "id": "5d49ddae",
   "metadata": {},
   "outputs": [],
   "source": [
    "# Numpy ===> \n",
    "\n",
    "# (1). same data type \n",
    "# (2). Memory consume less \n",
    "# (3). Computation Power "
   ]
  },
  {
   "cell_type": "code",
   "execution_count": 2,
   "id": "0defb140",
   "metadata": {},
   "outputs": [],
   "source": [
    "import numpy as np "
   ]
  },
  {
   "cell_type": "code",
   "execution_count": 3,
   "id": "0d3854f5",
   "metadata": {},
   "outputs": [
    {
     "data": {
      "text/plain": [
       "list"
      ]
     },
     "execution_count": 3,
     "metadata": {},
     "output_type": "execute_result"
    }
   ],
   "source": [
    "a = [1,23,455,90]\n",
    "type(a) "
   ]
  },
  {
   "cell_type": "code",
   "execution_count": 4,
   "id": "7b7b9d7f",
   "metadata": {},
   "outputs": [
    {
     "data": {
      "text/plain": [
       "array([  1,  23, 455,  90])"
      ]
     },
     "execution_count": 4,
     "metadata": {},
     "output_type": "execute_result"
    }
   ],
   "source": [
    "b = np.array(a) \n",
    "b"
   ]
  },
  {
   "cell_type": "code",
   "execution_count": 5,
   "id": "0af82086",
   "metadata": {},
   "outputs": [
    {
     "data": {
      "text/plain": [
       "numpy.ndarray"
      ]
     },
     "execution_count": 5,
     "metadata": {},
     "output_type": "execute_result"
    }
   ],
   "source": [
    "type(b) "
   ]
  },
  {
   "cell_type": "markdown",
   "id": "57478e18",
   "metadata": {},
   "source": [
    "# How to create a user defined array ? "
   ]
  },
  {
   "cell_type": "code",
   "execution_count": 7,
   "id": "bf9f07b6",
   "metadata": {},
   "outputs": [
    {
     "name": "stdout",
     "output_type": "stream",
     "text": [
      "Enter size:3\n",
      "Enter item:sam\n",
      "Enter item:45\n",
      "Enter item:raj\n"
     ]
    },
    {
     "data": {
      "text/plain": [
       "array(['sam', '45', 'raj'], dtype='<U3')"
      ]
     },
     "execution_count": 7,
     "metadata": {},
     "output_type": "execute_result"
    }
   ],
   "source": [
    "a = [] \n",
    "size = int(input(\"Enter size:\"))\n",
    "for i in range(size):\n",
    "    val = int(input(\"Enter item:\"))How can we check sha\n",
    "    a.append(val) \n",
    "b = np.array(a) \n",
    "b"
   ]
  },
  {
   "cell_type": "markdown",
   "id": "190cb76d",
   "metadata": {},
   "source": [
    "# How can we check shape and size of an array ? "
   ]
  },
  {
   "cell_type": "code",
   "execution_count": 8,
   "id": "b2fe6061",
   "metadata": {},
   "outputs": [],
   "source": [
    "a = np.array([1,34,89,9900])"
   ]
  },
  {
   "cell_type": "code",
   "execution_count": 9,
   "id": "67289b15",
   "metadata": {},
   "outputs": [
    {
     "data": {
      "text/plain": [
       "array([   1,   34,   89, 9900])"
      ]
     },
     "execution_count": 9,
     "metadata": {},
     "output_type": "execute_result"
    }
   ],
   "source": [
    "a"
   ]
  },
  {
   "cell_type": "code",
   "execution_count": 10,
   "id": "e6e2be0b",
   "metadata": {},
   "outputs": [
    {
     "name": "stdout",
     "output_type": "stream",
     "text": [
      "Total Shape =  (4,)\n",
      "Total Elements =  4\n"
     ]
    }
   ],
   "source": [
    "print(\"Total Shape = \" , a.shape)\n",
    "print(\"Total Elements = \" , a.size)"
   ]
  },
  {
   "cell_type": "code",
   "execution_count": 11,
   "id": "8f786e02",
   "metadata": {},
   "outputs": [
    {
     "data": {
      "text/plain": [
       "array([[1, 2, 3],\n",
       "       [4, 5, 6],\n",
       "       [7, 8, 9]])"
      ]
     },
     "execution_count": 11,
     "metadata": {},
     "output_type": "execute_result"
    }
   ],
   "source": [
    "a = [[1,2,3] , [4,5,6] , [7,8,9]]\n",
    "b = np.array(a) \n",
    "b"
   ]
  },
  {
   "cell_type": "code",
   "execution_count": 12,
   "id": "2e523aa7",
   "metadata": {},
   "outputs": [],
   "source": [
    "# row_1 = [1,2,3]\n",
    "# row_2 = [4,5,6]\n",
    "# row_3 = [7,8,9]\n",
    "\n",
    "# col_1 = [1,4,7]\n",
    "# copl_2 = [2,5,8]\n",
    "# col_3 = [3,6,9]"
   ]
  },
  {
   "cell_type": "code",
   "execution_count": 14,
   "id": "1cdbf831",
   "metadata": {},
   "outputs": [
    {
     "name": "stdout",
     "output_type": "stream",
     "text": [
      "Total Shape =  (3, 3)\n",
      "Total Elements =  9\n"
     ]
    }
   ],
   "source": [
    "print(\"Total Shape = \" , b.shape)\n",
    "print(\"Total Elements = \" , b.size)"
   ]
  },
  {
   "cell_type": "code",
   "execution_count": 15,
   "id": "77f3298b",
   "metadata": {},
   "outputs": [],
   "source": [
    "# iMAGES ===> pixels(0-255) ===> 0px black , 255 px white ==> Normalize(0-1)px \n",
    "\n",
    "# Intially weights ===> 0 , 1 \n",
    "\n",
    "\n",
    "# optimization ===> 0,1 \n",
    "\n",
    "\n",
    "# matrix ===> n(rows) , n(columns) \n",
    "\n",
    "# symmatric Matrix ===> n(rows) = n(columns) \n",
    "\n",
    "# Aymmatric Matrix ===> n(rows) !=n(columns) \n",
    "\n",
    "# [(1,1) , (2,2) , (3,3) , (4,4)......(n,n)]"
   ]
  },
  {
   "cell_type": "markdown",
   "id": "b6077886",
   "metadata": {},
   "source": [
    "# Prer-defined functions "
   ]
  },
  {
   "cell_type": "markdown",
   "id": "0c7c10a6",
   "metadata": {},
   "source": [
    "# (1). zeros() ===> It will create an array in which all the elements are 0 . "
   ]
  },
  {
   "cell_type": "code",
   "execution_count": 16,
   "id": "833f1382",
   "metadata": {},
   "outputs": [
    {
     "data": {
      "text/plain": [
       "array([0., 0., 0., 0.])"
      ]
     },
     "execution_count": 16,
     "metadata": {},
     "output_type": "execute_result"
    }
   ],
   "source": [
    "a = np.zeros(4)\n",
    "a"
   ]
  },
  {
   "cell_type": "code",
   "execution_count": 17,
   "id": "6d1a48a5",
   "metadata": {},
   "outputs": [
    {
     "data": {
      "text/plain": [
       "array([[0., 0., 0.],\n",
       "       [0., 0., 0.]])"
      ]
     },
     "execution_count": 17,
     "metadata": {},
     "output_type": "execute_result"
    }
   ],
   "source": [
    "a = np.zeros((2,3))\n",
    "a"
   ]
  },
  {
   "cell_type": "markdown",
   "id": "3b569525",
   "metadata": {},
   "source": [
    "# (2). ones() ===> It will create an array in which all the elments are 1 . "
   ]
  },
  {
   "cell_type": "code",
   "execution_count": 18,
   "id": "300c9ac2",
   "metadata": {},
   "outputs": [
    {
     "data": {
      "text/plain": [
       "array([1., 1., 1.])"
      ]
     },
     "execution_count": 18,
     "metadata": {},
     "output_type": "execute_result"
    }
   ],
   "source": [
    "a = np.ones(3)\n",
    "a"
   ]
  },
  {
   "cell_type": "code",
   "execution_count": 23,
   "id": "baa317e3",
   "metadata": {},
   "outputs": [
    {
     "data": {
      "text/plain": [
       "array([[1., 1., 1.],\n",
       "       [1., 1., 1.]])"
      ]
     },
     "execution_count": 23,
     "metadata": {},
     "output_type": "execute_result"
    }
   ],
   "source": [
    "a = np.ones((2 , 3))\n",
    "a"
   ]
  },
  {
   "cell_type": "code",
   "execution_count": 24,
   "id": "c94e0b2d",
   "metadata": {},
   "outputs": [
    {
     "data": {
      "text/plain": [
       "numpy.ndarray"
      ]
     },
     "execution_count": 24,
     "metadata": {},
     "output_type": "execute_result"
    }
   ],
   "source": [
    "type(a) "
   ]
  },
  {
   "cell_type": "code",
   "execution_count": 27,
   "id": "3ec28e39",
   "metadata": {},
   "outputs": [
    {
     "data": {
      "text/plain": [
       "(2, 3)"
      ]
     },
     "execution_count": 27,
     "metadata": {},
     "output_type": "execute_result"
    }
   ],
   "source": [
    "a.shape"
   ]
  },
  {
   "cell_type": "code",
   "execution_count": 28,
   "id": "1404c37c",
   "metadata": {},
   "outputs": [
    {
     "data": {
      "text/plain": [
       "6"
      ]
     },
     "execution_count": 28,
     "metadata": {},
     "output_type": "execute_result"
    }
   ],
   "source": [
    "a.size"
   ]
  },
  {
   "cell_type": "markdown",
   "id": "e363a5ae",
   "metadata": {},
   "source": [
    "# (3). eye() ====> In this function digonalpostional elements are 1 and rest all are zero . "
   ]
  },
  {
   "cell_type": "code",
   "execution_count": 29,
   "id": "9bf0ce1d",
   "metadata": {},
   "outputs": [
    {
     "data": {
      "text/plain": [
       "array([[1., 0., 0., 0.],\n",
       "       [0., 1., 0., 0.],\n",
       "       [0., 0., 1., 0.],\n",
       "       [0., 0., 0., 1.]])"
      ]
     },
     "execution_count": 29,
     "metadata": {},
     "output_type": "execute_result"
    }
   ],
   "source": [
    "a = np.eye(4)    ####Symmatric Matrix \n",
    "a"
   ]
  },
  {
   "cell_type": "code",
   "execution_count": 30,
   "id": "d562f5d5",
   "metadata": {},
   "outputs": [
    {
     "data": {
      "text/plain": [
       "array([[1., 0., 0., 0.],\n",
       "       [0., 1., 0., 0.],\n",
       "       [0., 0., 1., 0.]])"
      ]
     },
     "execution_count": 30,
     "metadata": {},
     "output_type": "execute_result"
    }
   ],
   "source": [
    "a = np.eye(3,4)  ####Asymmatric Matrix \n",
    "a"
   ]
  },
  {
   "cell_type": "code",
   "execution_count": null,
   "id": "192f80f5",
   "metadata": {},
   "outputs": [],
   "source": []
  }
 ],
 "metadata": {
  "kernelspec": {
   "display_name": "Python 3 (ipykernel)",
   "language": "python",
   "name": "python3"
  },
  "language_info": {
   "codemirror_mode": {
    "name": "ipython",
    "version": 3
   },
   "file_extension": ".py",
   "mimetype": "text/x-python",
   "name": "python",
   "nbconvert_exporter": "python",
   "pygments_lexer": "ipython3",
   "version": "3.9.12"
  }
 },
 "nbformat": 4,
 "nbformat_minor": 5
}
